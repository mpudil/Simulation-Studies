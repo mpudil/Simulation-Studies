{
 "cells": [
  {
   "cell_type": "markdown",
   "metadata": {},
   "source": [
    "# Mitchell Pudil\n",
    "## 2016 NFL Rushing Statistics\n",
    "## For Advanced R Programming Class\n",
    "## Topics covered: Webscraping, regular expressions"
   ]
  },
  {
   "cell_type": "code",
   "execution_count": 2,
   "metadata": {},
   "outputs": [
    {
     "name": "stderr",
     "output_type": "stream",
     "text": [
      "Installing package into ‘/srv/rlibs’\n",
      "(as ‘lib’ is unspecified)\n"
     ]
    }
   ],
   "source": [
    "install.packages('XML')\n",
    "library(XML)"
   ]
  },
  {
   "cell_type": "markdown",
   "metadata": {},
   "source": [
    "### Read in the first page of 2016 NFL rushing statistics. When sorted by decreasing average yards per game, there should be 50 players."
   ]
  },
  {
   "cell_type": "code",
   "execution_count": 3,
   "metadata": {},
   "outputs": [],
   "source": [
    "url <- \"http://www.nfl.com/stats/categorystats?tabSeq=0&season=2016&seasonType=REG&experience=&Submit=Go&archive=true&conference=null&statisticCategory=RUSHING&d-447263-p=1/\"\n",
    "download.file(url,destfile = \"nfl.html\", method = \"curl\")\n",
    "d <- readHTMLTable(\"nfl.html\",header=TRUE,stringsAsFactors=FALSE)\n",
    "e <- readHTMLTable(\"nfl.html\",header=FALSE,stringsAsFactors=FALSE)[[1]]"
   ]
  },
  {
   "cell_type": "markdown",
   "metadata": {},
   "source": [
    "### Changing column names and edit columns using regular expressions"
   ]
  },
  {
   "cell_type": "code",
   "execution_count": 4,
   "metadata": {},
   "outputs": [],
   "source": [
    "colnames(e) <- colnames(data.frame(d))  #Changing column names\n",
    "colnames(e) <- gsub(\"result\", \"\", colnames(e))\n",
    "colnames(e) <- gsub(\"\\\\.\", \"\", colnames(e))\n",
    "colnames(e) <- gsub(\"AttG\", \"Att/G\", colnames(e))\n",
    "colnames(e) <- gsub(\"YdsG\", \"Yds/G\", colnames(e))\n",
    "myTable <- e"
   ]
  },
  {
   "cell_type": "markdown",
   "metadata": {},
   "source": [
    "Now we will create an indicator variable named \"longRunTD\" if the longest run (Lng) resulted in a TD.  This is indicated by a \"T\" at the end of the variable's value (For example, Jay Ajayi's long run of 62 yards was a TD, but Le'Veon Bell's long run of 44 was not a TD.)"
   ]
  },
  {
   "cell_type": "code",
   "execution_count": 5,
   "metadata": {},
   "outputs": [
    {
     "name": "stderr",
     "output_type": "stream",
     "text": [
      "Warning message in eval(expr, envir, enclos):\n",
      "“NAs introduced by coercion”"
     ]
    }
   ],
   "source": [
    "mytable2 <- as.integer(myTable$Lng)\n",
    "na.rows <- which(is.na(mytable2))\n",
    "myTable$longRunTD <- 1\n",
    "myTable$longRunTD[c(na.rows)] <- 0"
   ]
  },
  {
   "cell_type": "markdown",
   "metadata": {},
   "source": [
    "For all variables except \"Player\", \"Team\", and \"Pos\": Make sure to remove \"T\" and \",\" from the variable values and make sure the variable is treated by R as a numeric variable."
   ]
  },
  {
   "cell_type": "code",
   "execution_count": 6,
   "metadata": {},
   "outputs": [],
   "source": [
    "fix <- function(x) {\n",
    "  x <- gsub(\"T\",\"\",x)\n",
    "  x <- gsub(\",\",\"\",x)\n",
    "  as.numeric(x)\n",
    "}\n",
    "\n",
    "myTable$'Att/G' <- fix(myTable$'Att/G')\n",
    "myTable$'Yds' <- fix(myTable$'Yds')\n",
    "myTable$'Yds/G' <- fix(myTable$'Yds/G')\n",
    "myTable$'Lng' <- fix(myTable$'Lng')"
   ]
  },
  {
   "cell_type": "markdown",
   "metadata": {},
   "source": [
    "### How many QB's had a long run of at least 20 yards?"
   ]
  },
  {
   "cell_type": "code",
   "execution_count": 10,
   "metadata": {},
   "outputs": [
    {
     "name": "stdout",
     "output_type": "stream",
     "text": [
      "[1] 43 QBs had a long run of at least 20 yds.\n"
     ]
    }
   ],
   "source": [
    "qb20yds <- dim(subset(myTable, myTable$Lng >= 20))[1]\n",
    "print(noquote(paste(qb20yds, 'QBs had a long run of at least 20 yds.')))"
   ]
  },
  {
   "cell_type": "markdown",
   "metadata": {},
   "source": [
    "### How many RB's scored at least 5 rushing TDs?"
   ]
  },
  {
   "cell_type": "code",
   "execution_count": 9,
   "metadata": {},
   "outputs": [
    {
     "name": "stdout",
     "output_type": "stream",
     "text": [
      "[1] 17 RBs scored at least 5 rushing TDs.\n"
     ]
    }
   ],
   "source": [
    "rb <- subset(myTable, myTable$Pos==\"RB\")\n",
    "touchrb <- subset(rb, TD >= 5)\n",
    "rb5td <- dim(touchrb)[1]\n",
    "print(noquote(paste(rb5td, 'RBs scored at least 5 rushing TDs.')))"
   ]
  },
  {
   "cell_type": "markdown",
   "metadata": {},
   "source": [
    "### Among players all players with no fumbles, who scored the most rushing TDs?"
   ]
  },
  {
   "cell_type": "code",
   "execution_count": 11,
   "metadata": {},
   "outputs": [
    {
     "name": "stdout",
     "output_type": "stream",
     "text": [
      "[1] Jeremy Hill scored the most rushing TDs\n"
     ]
    }
   ],
   "source": [
    "nofumble <- subset(myTable, myTable$FUM==0)\n",
    "maxtd <- which.max(nofumble$TD)\n",
    "most <- nofumble[maxtd,2]  #Answer: Jeremy Hill \n",
    "print(noquote(paste(most, 'scored the most rushing TDs')))\n"
   ]
  },
  {
   "cell_type": "markdown",
   "metadata": {},
   "source": [
    "#### Create the variable AbbrevName which contains the first initial (of the first name), a space, and then the entire last name of the player. For example, for Le'Veon Bell, the AbbrevName entry should be \"L Bell\""
   ]
  },
  {
   "cell_type": "code",
   "execution_count": 18,
   "metadata": {},
   "outputs": [
    {
     "data": {
      "text/html": [
       "<table>\n",
       "<thead><tr><th scope=col>Rk</th><th scope=col>Player</th><th scope=col>Team</th><th scope=col>Pos</th><th scope=col>Att</th><th scope=col>AbbrevName</th></tr></thead>\n",
       "<tbody>\n",
       "\t<tr><td>1              </td><td>Ezekiel Elliott</td><td>DAL            </td><td>RB             </td><td>322            </td><td>E Elliott      </td></tr>\n",
       "\t<tr><td>2              </td><td>Le'Veon Bell   </td><td>PIT            </td><td>RB             </td><td>261            </td><td>L Bell         </td></tr>\n",
       "\t<tr><td>3              </td><td>Jordan Howard  </td><td>CHI            </td><td>RB             </td><td>252            </td><td>J Howard       </td></tr>\n",
       "\t<tr><td>4              </td><td>Andre Williams </td><td>SD             </td><td>RB             </td><td>18             </td><td>A Williams     </td></tr>\n",
       "\t<tr><td>5              </td><td>Jay Ajayi      </td><td>MIA            </td><td>RB             </td><td>260            </td><td>J Ajayi        </td></tr>\n",
       "\t<tr><td>6              </td><td>LeSean McCoy   </td><td>BUF            </td><td>RB             </td><td>234            </td><td>L McCoy        </td></tr>\n",
       "</tbody>\n",
       "</table>\n"
      ],
      "text/latex": [
       "\\begin{tabular}{r|llllll}\n",
       " Rk & Player & Team & Pos & Att & AbbrevName\\\\\n",
       "\\hline\n",
       "\t 1               & Ezekiel Elliott & DAL             & RB              & 322             & E Elliott      \\\\\n",
       "\t 2               & Le'Veon Bell    & PIT             & RB              & 261             & L Bell         \\\\\n",
       "\t 3               & Jordan Howard   & CHI             & RB              & 252             & J Howard       \\\\\n",
       "\t 4               & Andre Williams  & SD              & RB              & 18              & A Williams     \\\\\n",
       "\t 5               & Jay Ajayi       & MIA             & RB              & 260             & J Ajayi        \\\\\n",
       "\t 6               & LeSean McCoy    & BUF             & RB              & 234             & L McCoy        \\\\\n",
       "\\end{tabular}\n"
      ],
      "text/markdown": [
       "\n",
       "Rk | Player | Team | Pos | Att | AbbrevName | \n",
       "|---|---|---|---|---|---|\n",
       "| 1               | Ezekiel Elliott | DAL             | RB              | 322             | E Elliott       | \n",
       "| 2               | Le'Veon Bell    | PIT             | RB              | 261             | L Bell          | \n",
       "| 3               | Jordan Howard   | CHI             | RB              | 252             | J Howard        | \n",
       "| 4               | Andre Williams  | SD              | RB              | 18              | A Williams      | \n",
       "| 5               | Jay Ajayi       | MIA             | RB              | 260             | J Ajayi         | \n",
       "| 6               | LeSean McCoy    | BUF             | RB              | 234             | L McCoy         | \n",
       "\n",
       "\n"
      ],
      "text/plain": [
       "  Rk Player          Team Pos Att AbbrevName\n",
       "1 1  Ezekiel Elliott DAL  RB  322 E Elliott \n",
       "2 2  Le'Veon Bell    PIT  RB  261 L Bell    \n",
       "3 3  Jordan Howard   CHI  RB  252 J Howard  \n",
       "4 4  Andre Williams  SD   RB  18  A Williams\n",
       "5 5  Jay Ajayi       MIA  RB  260 J Ajayi   \n",
       "6 6  LeSean McCoy    BUF  RB  234 L McCoy   "
      ]
     },
     "metadata": {},
     "output_type": "display_data"
    }
   ],
   "source": [
    "for(i in 1:dim(myTable)[1]) {\n",
    "  myTable$AbbrevName[i] <- paste(substr(myTable$Player[i], 1,1), tail(strsplit(myTable$Player[i],split=\" \")[[1]],1), sep=\" \")\n",
    "}\n",
    "head(myTable[,c(1:5,18)])"
   ]
  }
 ],
 "metadata": {
  "kernelspec": {
   "display_name": "R",
   "language": "R",
   "name": "ir"
  },
  "language_info": {
   "codemirror_mode": "r",
   "file_extension": ".r",
   "mimetype": "text/x-r-source",
   "name": "R",
   "pygments_lexer": "r",
   "version": "3.4.4"
  }
 },
 "nbformat": 4,
 "nbformat_minor": 2
}
